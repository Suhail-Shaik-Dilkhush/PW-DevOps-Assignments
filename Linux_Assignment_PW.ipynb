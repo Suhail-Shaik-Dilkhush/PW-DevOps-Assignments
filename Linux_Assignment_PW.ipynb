{
  "nbformat": 4,
  "nbformat_minor": 0,
  "metadata": {
    "colab": {
      "provenance": []
    },
    "kernelspec": {
      "name": "python3",
      "display_name": "Python 3"
    },
    "language_info": {
      "name": "python"
    }
  },
  "cells": [
    {
      "cell_type": "markdown",
      "source": [
        "1. What is Linux ?\n",
        "\n",
        "- Linux is an Operating System\n",
        "- It is light weight and consume less compute and memory resources\n",
        "- It is available in GUI and as well as CLI\n",
        "- There are differet types of Linux Os available ex: Debian, Fedora, Ubuntu, Amazon Linux etc\n",
        "- we can have a full control over the OS by having the root user privileges"
      ],
      "metadata": {
        "id": "8fz3ZlvDN68Z"
      }
    },
    {
      "cell_type": "markdown",
      "source": [
        "2. What is the difference between Hard Link & Soft Link ?\n",
        "\n",
        "--> Need to use obsolute path of the file or folder while creating hard links and soft links\n",
        "\n",
        "- HARD LINK :\n",
        " - It can only be created for a file and not for a directory.\n",
        " - deleting the original file will not make the content or the hardlink (synced file) to be deleted\n",
        " - deleting the hard link (synced file) will not have any affect on the original file\n",
        "\n",
        "- SOFT LINK :\n",
        " - It can be created for any file or folder\n",
        " - It is like a shortcut to that path\n",
        " - deleting the original file or folder will make the soft link (shortcut path) break and unable to access the data\n",
        " - soft link will still be available but we cannot access it as it is broke and can make the same soft link useful if we create another folder or file at the same path"
      ],
      "metadata": {
        "id": "wt7692mWPHIS"
      }
    },
    {
      "cell_type": "markdown",
      "source": [
        "3. What is a kernel in Linux ?\n",
        "- Kernel is medium with whcich we can communicate with the resources of the machine like cpu, ram, storage\n",
        "- It lies between os and the hardware\n",
        "- OS utilizes the kernel to communicate and respond to the user input queries\n",
        "- It is like an Interpreter\n",
        "- It makes the processes or applicatoins to communicate with the hardware"
      ],
      "metadata": {
        "id": "-i6h0p_wUP2j"
      }
    },
    {
      "cell_type": "markdown",
      "source": [
        "4. How do you create a user account ?\n",
        "\n",
        "- by using adduser command and following the guided process, we can create a user account on the linux\n",
        "\n",
        "- Manual Method :\n",
        "  - create an user with home directory : useradd -m someName\n",
        "  - set password for user : sudo passwd someName\n",
        "  - add user to a group (sudo) if wanted to : sudo usermod -aG sudo userName\n",
        "  - give access to shell to the created user : sudo usermod -s /bin/bash userName\n",
        "  - verify the created user using : id userName"
      ],
      "metadata": {
        "id": "kGTKU6_XVJgZ"
      }
    },
    {
      "cell_type": "markdown",
      "source": [
        "5. what is the grep command user for in Linux ?\n",
        "\n",
        "- Grep is used to find the content in the file\n",
        "\n",
        "- grep command is also passed as a pipeline to the commands which give output to filter or process the ouput for desired results or for searching  "
      ],
      "metadata": {
        "id": "fBPsar-jYWSO"
      }
    },
    {
      "cell_type": "markdown",
      "source": [
        "6. step1: create user p1\n",
        "- adduser p1\n",
        "\n",
        "   step2: He should be part of 3 groups g1,g2,g3.\n",
        "- sudo usermod -aG g1,g2,g3 p1\n",
        "or\n",
        "- editing the /etc/group path and adding the entries for the user for g1,g2,g3\n",
        "\n",
        "   step3: Wheneever he creates a file automatically in the group section of file grp g1 should come.\n",
        "- sudo usermod -g g1 p1\n",
        "- now the g1 will be the primary group of the user p1\n",
        "- refresh the shell by loggging in again - su p1\n",
        "- files created by the p1 will automatically have g1 group"
      ],
      "metadata": {
        "id": "eLTkI9iWYwIG"
      }
    },
    {
      "cell_type": "markdown",
      "source": [
        "7. step1: create directory /tmp/bg as root user and create files inside it\n",
        "   - sudo su\n",
        "   - mkdir /tmp/bg\n",
        "   - touch test-files{1..4}.txt\n",
        "   \n",
        "   step2: \"abhi\" should be the owner of the directory. He should ba able to create files and delete files inside the directory and also he should be able to add content to all files indide the directory\n",
        "   - chown -R abhi:abhi /tmp/bg\n",
        "   - chmod 700 /tmp/bg\n",
        "   - now abhi can able to create, delete, add content to the files inside the directory as the directory has full access to the owner and the owner is abhi"
      ],
      "metadata": {
        "id": "UxtRMoAVZ9Ki"
      }
    },
    {
      "cell_type": "markdown",
      "source": [
        "8. You suspect that a particular process is consuming excessive CPU resources on you Linux Server. How would you identify and terminate this proccess ?\n",
        "\n",
        "- I will monitor the cpu usage using the top command\n",
        "\n",
        "- will notice which process is consuming excessive cpu\n",
        "\n",
        "- and will grab its PID and kill it using the kill processName or kill -9 processName\n",
        "\n",
        "- or if it has a parent process running then will grab the parent process pid by using command - ps -o ppid -p pid (of process which is consuming more space)\n",
        "\n",
        "- kill ppid or kill -9 ppid if it is not related to any critical service\n"
      ],
      "metadata": {
        "id": "7Mr5II-BazNL"
      }
    }
  ]
}